{
 "cells": [
  {
   "cell_type": "code",
   "execution_count": null,
   "id": "1f13c145-ec02-419a-a527-811211e02c6e",
   "metadata": {},
   "outputs": [],
   "source": [
    "import tkinter\n",
    "from tkinter import *\n",
    "import tkinter.messagebox\n",
    "import pickle\n",
    "root=Tk()\n",
    "root.title(\"TO~DO LIST\")\n",
    "root.geometry(\"400x550\")\n",
    "root.iconbitmap(r'C:\\Users\\asd\\Downloads\\myicon.ico')\n",
    "\n",
    "def add_goals():\n",
    "    work = entry_goal.get()\n",
    "    if work!='':\n",
    "        goal.insert(tkinter.END,work)\n",
    "        entry_goal.delete(0,tkinter.END)\n",
    "    else:\n",
    "        tkinter.messagebox.showwarning(title='Warning',message='please enter your goal')\n",
    "\n",
    "def remove_goals():\n",
    "    try:\n",
    "        goal_index=goal.curselection()[0]\n",
    "        goal.delete(goal_index)\n",
    "    except:\n",
    "        tkinter.messagebox.showwarning(title='Warning',message='Please select an item')\n",
    "\n",
    "def show_goals():\n",
    "    try:\n",
    "        g1=pickle.load(open(\"goal.dat\",\"rb\"))\n",
    "        goal.delete(0,tkinter.END)\n",
    "        for i in g1:\n",
    "            goal.insert(tkinter.END,i)\n",
    "    except:\n",
    "        tkinter.messagebox.showwarning(title=\"Warning\",message=\"no data found\")\n",
    "def save_goals():\n",
    "    g1=goal.get(0,goal.size())\n",
    "    pickle.dump(g1,open(\"goal.dat\",\"wb\"))\n",
    "\n",
    "goal=tkinter.Listbox(root,height=20,width=60)\n",
    "goal.pack()\n",
    "\n",
    "entry_goal=tkinter.Entry(root,width=60)\n",
    "entry_goal.pack()\n",
    "\n",
    "button_add=Button(root,text='Add Work' , command=add_goals , width=50)\n",
    "button_add.pack()\n",
    "\n",
    "button_remove=Button(root,text='Remove Work' , command=remove_goals , width=50)\n",
    "button_remove.pack()\n",
    "\n",
    "button_show=Button(root,text='show Work' , command=show_goals , width=50)\n",
    "button_show.pack()\n",
    "\n",
    "button_save=Button(root,text='save Work' , command=save_goals , width=50)\n",
    "button_save.pack()\n",
    "\n",
    "root.mainloop()"
   ]
  },
  {
   "cell_type": "code",
   "execution_count": null,
   "id": "fad29de9-e6fe-4d17-9cdd-7c959c187027",
   "metadata": {},
   "outputs": [],
   "source": []
  },
  {
   "cell_type": "code",
   "execution_count": null,
   "id": "7321ac3d-d7f2-4800-8c40-39d57360c308",
   "metadata": {},
   "outputs": [],
   "source": []
  },
  {
   "cell_type": "code",
   "execution_count": null,
   "id": "0b072966-6b39-40ce-961b-b80e00742adf",
   "metadata": {},
   "outputs": [],
   "source": []
  }
 ],
 "metadata": {
  "kernelspec": {
   "display_name": "Python 3 (ipykernel)",
   "language": "python",
   "name": "python3"
  },
  "language_info": {
   "codemirror_mode": {
    "name": "ipython",
    "version": 3
   },
   "file_extension": ".py",
   "mimetype": "text/x-python",
   "name": "python",
   "nbconvert_exporter": "python",
   "pygments_lexer": "ipython3",
   "version": "3.8.10"
  }
 },
 "nbformat": 4,
 "nbformat_minor": 5
}
