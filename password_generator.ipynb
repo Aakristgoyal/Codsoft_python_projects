{
 "cells": [
  {
   "cell_type": "code",
   "execution_count": 60,
   "id": "43a08a4c-0188-4e39-8607-ff8e5a937028",
   "metadata": {},
   "outputs": [],
   "source": [
    "from tkinter import *\n",
    "import random\n",
    "import string\n",
    "root=Tk()\n",
    "root.title(\"password generator\")\n",
    "root.iconbitmap(r\"C:\\Users\\aakrist\\Downloads\\pass.ico\")\n",
    "root.geometry(\"300x400\")\n",
    "root.resizable(False,False)\n",
    "def gen_pass():\n",
    "    if __name__==\"__main__\":\n",
    "        s1=string.ascii_uppercase\n",
    "        s2=string.ascii_lowercase\n",
    "        s3=string.digits\n",
    "        s4=string.punctuation\n",
    "        s=[]\n",
    "        s.extend(list(s1))\n",
    "        s.extend(list(s2))\n",
    "        s.extend(list(s3))\n",
    "        s.extend(list(s4))\n",
    "        random.shuffle(s)\n",
    "        pass_entry.delete(0,END)\n",
    "        pass_len=int(entr.get())\n",
    "        a=(\"\".join(s[0:pass_len]))\n",
    "        pass_entry.insert(0,a)\n",
    "        \n",
    "    \n",
    "def copy():\n",
    "    root.clipboard_clear()\n",
    "    root.clipboard_append(pass_entry.get())\n",
    "    \n",
    "l1=LabelFrame(root,text=\"How Many Characters?\")\n",
    "l1.pack(pady=20,padx=20)\n",
    "\n",
    "entr=Entry(l1,font=\"lucida 25 italic\")\n",
    "entr.pack(padx=20,pady=20)\n",
    "\n",
    "l2=LabelFrame(root,text=\"Generated Password:-\")\n",
    "l2.pack(pady=20,padx=20)\n",
    "pass_entry=Entry(l2,text=\"\",font=\"lucida 25 italic\")\n",
    "pass_entry.pack(pady=20,padx=20)\n",
    "\n",
    "Fr=Frame(root)\n",
    "Fr.pack(pady=20,padx=20)\n",
    "\n",
    "my_button=Button(Fr,text=\"Generate Password\",command=gen_pass)\n",
    "my_button.pack(side=TOP)\n",
    "\n",
    "clip=Button(Fr,text=\"copy to clipboard\",command=copy)\n",
    "clip.pack(side=TOP)\n",
    "\n",
    "\n",
    "\n",
    "\n",
    "root.mainloop()"
   ]
  },
  {
   "cell_type": "code",
   "execution_count": null,
   "id": "fe4b4753-f719-44c0-9ed2-72db7d054df1",
   "metadata": {},
   "outputs": [],
   "source": []
  }
 ],
 "metadata": {
  "kernelspec": {
   "display_name": "Python 3 (ipykernel)",
   "language": "python",
   "name": "python3"
  },
  "language_info": {
   "codemirror_mode": {
    "name": "ipython",
    "version": 3
   },
   "file_extension": ".py",
   "mimetype": "text/x-python",
   "name": "python",
   "nbconvert_exporter": "python",
   "pygments_lexer": "ipython3",
   "version": "3.8.10"
  }
 },
 "nbformat": 4,
 "nbformat_minor": 5
}
